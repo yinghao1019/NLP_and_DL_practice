{
  "nbformat": 4,
  "nbformat_minor": 0,
  "metadata": {
    "colab": {
      "name": "Conv_seq2seq.ipynb",
      "provenance": [],
      "collapsed_sections": [],
      "include_colab_link": true
    },
    "kernelspec": {
      "name": "python3",
      "display_name": "Python 3"
    },
    "accelerator": "GPU"
  },
  "cells": [
    {
      "cell_type": "markdown",
      "metadata": {
        "id": "view-in-github",
        "colab_type": "text"
      },
      "source": [
        "<a href=\"https://colab.research.google.com/github/yinghao1019/NLP_and_DL_practice/blob/master/Conv_seq2seq.ipynb\" target=\"_parent\"><img src=\"https://colab.research.google.com/assets/colab-badge.svg\" alt=\"Open In Colab\"/></a>"
      ]
    },
    {
      "cell_type": "code",
      "metadata": {
        "id": "nb3InE_0xTP1"
      },
      "source": [
        "import torch\r\n",
        "from torch import nn,optim\r\n",
        "import torch.nn.functional as F\r\n",
        "from torchtext.datasets import WMT14,Multi30k\r\n",
        "from torchtext.data import Field,BucketIterator,metrics\r\n",
        "import numpy as np\r\n",
        "import matplotlib.pyplot\r\n",
        "import spacy\r\n",
        "\r\n",
        "import os\r\n",
        "import tqdm\r\n",
        "import random\r\n",
        "import math\r\n",
        "import time"
      ],
      "execution_count": null,
      "outputs": []
    },
    {
      "cell_type": "markdown",
      "metadata": {
        "id": "6aPLzBuIS_1j"
      },
      "source": [
        "##文字預處理與載入資料\r\n",
        "在載入資料集部分，我們採用torchtext library內建的Machine translation資料集Multi30k 進行練習，在翻譯語言的部分，則是選擇了German-English。\r\n",
        "\r\n",
        "---\r\n",
        "在文字預處理方面，這邊採用spacy的tokenizer模型進行word segment。隨後將其token轉成小寫,在過濾noise部分,則是過濾掉了在train corpus中詞頻低於2的詞彙並建立vocabulary。並在每個sentences的前後加入\\<sos>,\\<eos>的token。"
      ]
    },
    {
      "cell_type": "code",
      "metadata": {
        "id": "1f2_ywErAUXA"
      },
      "source": [
        "#set random seed to fixed random number\r\n",
        "Random_SEED=1234\r\n",
        "random.seed(Random_SEED)\r\n",
        "np.random.seed(Random_SEED)\r\n",
        "torch.random.manual_seed(Random_SEED)\r\n",
        "torch.cuda.manual_seed_all(Random_SEED)\r\n",
        "if torch.backends.cudnn.is_available():\r\n",
        "  torch.backends.cudnn.deterministic=True\r\n",
        "#set gpu device\r\n",
        "device=torch.device('cuda:0')\r\n",
        "spacy.require_gpu()"
      ],
      "execution_count": null,
      "outputs": []
    },
    {
      "cell_type": "code",
      "metadata": {
        "id": "SfEH43cPzc89"
      },
      "source": [
        "#load tokenizer Model\r\n",
        "de_tokenizer=spacy.load('de_core_news_sm')\r\n",
        "# fr_tokenizer=spacy.load('fr_core_news_sm')\r\n",
        "en_tokenizer=spacy.load('en_core_web_sm')\r\n",
        "\r\n",
        "#build tokenize process\r\n",
        "#English toknize process\r\n",
        "def en_tokenize(text):\r\n",
        "  return [token.text.lower() for token in en_tokenizer.tokenizer(text)]\r\n",
        "#Gereman toknize process\r\n",
        "def de_tokenize(text):\r\n",
        "  return [token.text.lower() for token in de_tokenizer.tokenizer(text)]\r\n",
        "#Franch toknize process\r\n",
        "def fr_tokenize(text):\r\n",
        "  return [token.text.lower() for token in fr_tokenizer.tokenizer(text)]\r\n",
        "\r\n",
        "#build Field,we will translate English-German & English-Franch\r\n",
        "TRG_en=Field(init_token='<sos>',eos_token='<eos>',batch_first=True,tokenize=en_tokenize)\r\n",
        "SRC_de=Field(init_token='<sos>',eos_token='<eos>',batch_first=True,tokenize=de_tokenize)\r\n",
        "# TRG_fr=Field(init_token='<sos>',eos_token='<eos>',tokenize=fr_tokenize)\r\n",
        "\r\n",
        "#build data\r\n",
        "train_data,val_data,test_data=Multi30k.splits(exts=('.de','.en'),fields=(SRC_de,TRG_en))\r\n",
        "print(f'Dataset size:{len(train_data)}\\n{len(val_data)}\\n{len(test_data)}\\n')\r\n",
        "\r\n",
        "#display data examples info.\r\n",
        "train_idx=random.choice(range(0,len(train_data)))\r\n",
        "train_src=train_data.examples[train_idx].src\r\n",
        "train_trg=train_data.examples[train_idx].trg\r\n",
        "print(f'train src_sents:{train_src}\\n train trg sents:{train_trg}')\r\n",
        "#Build vocabulary\r\n",
        "SRC_de.build_vocab(train_data,min_freq=2,specials=['<unk>','<pad>'])\r\n",
        "TRG_en.build_vocab(train_data,min_freq=2,specials=['<unk>','<pad>'])\r\n"
      ],
      "execution_count": null,
      "outputs": []
    },
    {
      "cell_type": "code",
      "metadata": {
        "id": "hma7A1rbMQMJ"
      },
      "source": [
        "#build Data iterator with bs128\r\n",
        "Batch_size=128\r\n",
        "train_iter,val_iter,test_iter=BucketIterator.splits((train_data,val_data,test_data),batch_sizes=(Batch_size,Batch_size,Batch_size),device=device)"
      ],
      "execution_count": null,
      "outputs": []
    },
    {
      "cell_type": "markdown",
      "metadata": {
        "id": "DIqa9DOefgjR"
      },
      "source": [
        "##Encoder implementation\r\n",
        "![](https://github.com/bentrevett/pytorch-seq2seq/raw/9479fcb532214ad26fd4bda9fcf081a05e1aaf4e/assets/convseq2seq1.png)\r\n",
        "圖片來源:https://github.com/bentrevett/pytorch-seq2seq  \r\n",
        "\r\n",
        "Encoder每層Layer的說明-  \r\n",
        "1.token and position Embed:首先，我們會將input sentence的word idx轉換成word Embedding，除此之外，為了加強每個tokeng位置順序的資訊，採用element-wise sum的方法將pos embed加入至word Embed.  \r\n",
        "\r\n",
        "2.linear layer:將embed_vector轉換成hid_vector.  \r\n",
        "\r\n",
        "3.N個convolution block:然後我們將轉後的hid_vector餵至'conv block'後，藉由N個'conv block'會提取出word的重要資訊。  \r\n",
        "\r\n",
        "4.linear_layer:將hid_vector進行linear transform變成conved output。其中shape為=[Bs,seqlen,embed_dim]  \r\n",
        "\r\n",
        "5.residul connection:將Embedding vector與conved output進行加總成為combined output此目的為加強conved output的source word資訊。  \r\n",
        "\r\n",
        "####而Convolution block中演算流程如下圖:\r\n",
        "![](https://github.com/bentrevett/pytorch-seq2seq/raw/9479fcb532214ad26fd4bda9fcf081a05e1aaf4e/assets/convseq2seq2.png)  \r\n",
        "圖片來源:https://github.com/bentrevett/pytorch-seq2seq\r\n",
        "\r\n",
        "假設當前是採用n個filter以及1個block的情況下來說明運算流程:  \r\n",
        "1.在Input 部分:採用前述合併postion與word Embedding的combine vector的combine vector  \r\n",
        "\r\n",
        "2.convolution layer:我們將使用n個filter來extract feature_map，並且讓它只能在seqLen那個方向上的dim進行移動，這樣的想法可以把它看作如同採用N-gram Model來捕捉詞彙之間的關聯。  \r\n",
        "\r\n",
        "```bash\r\n",
        "Note:由於希望通過filter後的input ,output seqLen一致，所以採用padding的方式來進行調整。由於設定GLU作為activation func.如果為了讓input vector與output vector的dim一致，須將filter的數量設成hidden_dim的2倍才能達成條件。\r\n",
        "```  \r\n",
        "\r\n",
        "3.最後我們將output與Input在進行一次residual connection.  \r\n",
        " \r\n",
        "4.第二個block的input則是吃第一個block的output，後續的block也是這樣。   \r\n"
      ]
    },
    {
      "cell_type": "code",
      "metadata": {
        "id": "MHBeXDiRea55"
      },
      "source": [
        "#build convolution block\r\n",
        "class cnnEncoder(nn.Module):\r\n",
        "  def __init__(self,input_dim,embed_dim,hid_dim,kernel_size,n_layers,max_length,drop_rate,device):\r\n",
        "    super(cnnEncoder,self).__init__()\r\n",
        "    #embed_layer attr\r\n",
        "    self.input_dim=input_dim\r\n",
        "    self.pos_dim=max_length\r\n",
        "    self.embed_dim=embed_dim\r\n",
        "    #conv block attr.\r\n",
        "    self.n_layers=n_layers\r\n",
        "    self.n_channels=hid_dim*2\r\n",
        "    self.hid_dim=hid_dim\r\n",
        "    self.kernel_size=kernel_size\r\n",
        "    self.padding=(self.kernel_size-1)//2\r\n",
        "    \r\n",
        "    #build layer\r\n",
        "    self.word_embed=nn.Embedding(input_dim,embed_dim)\r\n",
        "    self.pos_embed=nn.Embedding(max_length,embed_dim)\r\n",
        "    self.embed2hid=nn.Linear(embed_dim,hid_dim)\r\n",
        "    self.conv_blocks=nn.ModuleList([nn.Conv1d(self.hid_dim,\r\n",
        "                        self.n_channels,\r\n",
        "                        kernel_size=self.kernel_size,\r\n",
        "                        padding=self.padding)\r\n",
        "                    for _ in range(self.n_layers)])\r\n",
        "    self.hid2embed=nn.Linear(hid_dim,embed_dim)\r\n",
        "    self.device=device\r\n",
        "    self.dropout=nn.Dropout(drop_rate)\r\n",
        "    self.scale=torch.sqrt(torch.FloatTensor([0.5])).to(device)\r\n",
        "  def forward(self,src_tensors):\r\n",
        "    #create pos tensors\r\n",
        "    batch_size=src_tensors.size()[0]\r\n",
        "    src_len=src_tensors.size()[1]\r\n",
        "    pos_tensors=torch.arange(0,src_len).unsqueeze(0).repeat(batch_size,1).to(self.device)\r\n",
        "\r\n",
        "    #get pos and word token Embed\r\n",
        "    #src_tokenEmbeds=[Bs,seqlen,embed_dim],src_posEmbeds=[Bs,seqlen,embed_dim]\r\n",
        "    src_tokenEmbeds=self.word_embed(src_tensors)\r\n",
        "    src_posEmbeds=self.pos_embed(pos_tensors)\r\n",
        "\r\n",
        "    #elemwise sum and linear transform\r\n",
        "    #src_hids=[Bs,seqlen,hid_dim]\r\n",
        "    src_embeds=self.dropout(src_tokenEmbeds+src_posEmbeds)\r\n",
        "    src_hids=self.embed2hid(src_embeds)\r\n",
        "\r\n",
        "    #permute dim\r\n",
        "    #conv_inputs=[Bs,hid,seqlen]\r\n",
        "    conv_inputs=src_hids.permute(0,2,1)\r\n",
        "\r\n",
        "    #N convblock extract conved embed\r\n",
        "    for convb in self.conv_blocks:\r\n",
        "      #Fed into convolution filter\r\n",
        "      #conved_output=[Bs,2*hid_dim,seqlen]\r\n",
        "      conved_output=convb(self.dropout(conv_inputs))\r\n",
        "\r\n",
        "      #through glu activation,shape=[Bs,2*hid_dim,seqlen]\r\n",
        "      #Residual connection=[Bs,hid_dim,seqlen]\r\n",
        "      conved_output=(conv_inputs+F.glu(conved_output,dim=1))*self.scale\r\n",
        "      conv_inputs=conved_output\r\n",
        "\r\n",
        "    #tranform conved output hid_dim to Embed_dim\r\n",
        "    #conved_output=[Bs,seqLen,Embed_dim]\r\n",
        "    conved_output=self.hid2embed(conved_output.permute(0,2,1))\r\n",
        "\r\n",
        "    #Through Residual connect\r\n",
        "    #combined_output=[Bs,seqLen,Embed_dim]\r\n",
        "    combined_output=(conved_output+src_embeds)*self.scale\r\n",
        "    return conved_output,combined_output"
      ],
      "execution_count": null,
      "outputs": []
    },
    {
      "cell_type": "markdown",
      "metadata": {
        "id": "97iexsES4At9"
      },
      "source": [
        "###Decoder 架構部分  \r\n",
        "\r\n",
        "![](https://github.com/bentrevett/pytorch-seq2seq/raw/9479fcb532214ad26fd4bda9fcf081a05e1aaf4e/assets/convseq2seq3.png)\r\n",
        "圖片來源:https://reurl.cc/Gdx0Qp  \r\n",
        "\r\n",
        "&nbsp;&nbsp;&nbsp;在Decoder架構部分與encoder極為相似，僅在conv block已及最後一層不採用Residual connect的方式。且特別的地方在於相較於Rnn-based Decoder,他的input token可採用平行化輸入的方式，而不是像rnn-based 的方法採用序列化的方式進行。  \r\n",
        "\r\n",
        "&nbsp;&nbsp;&nbsp;而在其conv block的輸入部分，除了原有的hid vector,還輸入conved output,combined output(attention用),已及embedding vector(Residual connection用)。\r\n",
        "\r\n",
        "###Decoder的conv block部分\r\n",
        "![](https://github.com/bentrevett/pytorch-seq2seq/raw/9479fcb532214ad26fd4bda9fcf081a05e1aaf4e/assets/convseq2seq4.png)  \r\n",
        "圖片來源:https://reurl.cc/Gdx0Qp\r\n",
        "\r\n",
        "&nbsp;&nbsp;&nbsp;在conv block部分中也是與encoder的相似，特別的是我們只採用單邊的padding策略來維持filter output後的seqlen。除此之外，我們也採用attention的方法來增強context information。  \r\n",
        "\r\n",
        "&nbsp;&nbsp;&nbsp;在attention部分，我們採用類似標準attention的方法進行,query=當前feature map的output+Embedding vector,key=conved_output,value=combined output,在計算完每個token的attnetion Repr.後，我們將輸入至attn layer前的feature map進行residual connection,隨後在與輸入至block的hid_vector進行Residual connection來完成一個conv block的運算。  \r\n",
        "\r\n",
        "**\\#在attention機制時，key採用conved_output的理由為相較於combined output,他涵蓋了大量的context 資訊，而combined則是含有source token的資訊。**"
      ]
    },
    {
      "cell_type": "code",
      "metadata": {
        "id": "uhJUBHMB83Jq"
      },
      "source": [
        "class cnnDecoder(nn.Module):\r\n",
        "  def __init__(self,output_dim,embed_dim,hid_dim,kernel_size,n_layers,max_length,drop_rate,trg_pad_idx,device):\r\n",
        "    super(cnnDecoder,self).__init__()\r\n",
        "    #set decoder attr\r\n",
        "    self.output_dim=output_dim\r\n",
        "    self.pos_dim=max_length\r\n",
        "    self.embed_dim=embed_dim\r\n",
        "    self.device=device\r\n",
        "    self.trg_pad_idx=trg_pad_idx\r\n",
        "    #set conv_block attr.\r\n",
        "    self.hid_dim=hid_dim\r\n",
        "    self.n_filters=hid_dim*2\r\n",
        "    self.kernel_size=kernel_size\r\n",
        "    self.n_layers=n_layers\r\n",
        "    self.padding=kernel_size-1\r\n",
        "\r\n",
        "    #build layer\r\n",
        "    self.word_embed=nn.Embedding(output_dim,embed_dim)\r\n",
        "    self.pos_embed=nn.Embedding(self.pos_dim,embed_dim)\r\n",
        "    self.embed2hid=nn.Linear(self.embed_dim,self.hid_dim)\r\n",
        "    self.hid2embed=nn.Linear(self.hid_dim,self.embed_dim)\r\n",
        "    self.attn_hid2embed=nn.Linear(self.hid_dim,self.embed_dim)\r\n",
        "    self.attn_embed2hid=nn.Linear(self.embed_dim,self.hid_dim)\r\n",
        "    self.conv_blocks=nn.ModuleList([nn.Conv1d(self.hid_dim,self.n_filters,kernel_size=self.kernel_size) for _ in range(self.n_layers)])\r\n",
        "    self.padding=kernel_size-1\r\n",
        "    self.dropout=nn.Dropout(drop_rate)\r\n",
        "    self.output_layer=nn.Linear(self.embed_dim,self.output_dim)\r\n",
        "    self.scale=torch.sqrt(torch.FloatTensor([0.5])).to(device)\r\n",
        "  def calculate_attn(self,hid_tensors,embed_tensors,encoder_conved,encoder_combined):\r\n",
        "    #hid_tensors=[Bs,hid_dim,trg_seqlen]\r\n",
        "    #embed_tensors=[Bs,trg_seqlen,embed_dim]\r\n",
        "    #encoder_conved=[Bs,src_seqlen,embed_dim]\r\n",
        "    #encoder_combined=[Bs,src_seqlen,embed_dim]\r\n",
        "\r\n",
        "    #residual connection\r\n",
        "    #attn_query=[Bs,trg_seqlen,embed_dim]\r\n",
        "    attn_query=(self.attn_hid2embed(hid_tensors.permute(0,2,1))+embed_tensors)*self.scale\r\n",
        "\r\n",
        "    #get attn weight\r\n",
        "    #attn_w=[Bs,trg_seqlen,src_seqlen]\r\n",
        "    attn_w=torch.matmul(attn_query,encoder_conved.permute(0,2,1))\r\n",
        "\r\n",
        "    #through softmax and weighted sum encoder_combined\r\n",
        "    #attn_tensors=[Bs,trg_seqlen,emed_dim]\r\n",
        "    attn_tensors=torch.matmul(F.softmax(attn_w,dim=2),encoder_combined)\r\n",
        "\r\n",
        "    #convert to hid_dim and permute\r\n",
        "    #attn_tensors=[Bs,hid_dim,seqlen]\r\n",
        "    attn_tensors=self.attn_embed2hid(attn_tensors).permute(0,2,1)\r\n",
        "\r\n",
        "    #apply residual connection with input_hid and attended_input\r\n",
        "    attn_tensors=(attn_tensors+hid_tensors)*self.scale\r\n",
        "    return attn_tensors,F.softmax(attn_w,dim=2)\r\n",
        "  def forward(self,trg_tensors,encoder_conved,encoder_combined):\r\n",
        "    #create pos embedding\r\n",
        "    bs=trg_tensors.size()[0]\r\n",
        "    seqlen=trg_tensors.size()[1]\r\n",
        "    pos_tensors=torch.arange(0,seqlen).repeat(bs,1).to(self.device)\r\n",
        "\r\n",
        "    #pos_embed=[bs,seqlen,Embed_dim],token_embed=[bs,seqlen,Embed_dim]\r\n",
        "    token_embed=self.word_embed(trg_tensors)\r\n",
        "    pos_embed=self.pos_embed(pos_tensors)\r\n",
        "\r\n",
        "    #element-wise sum,embed_tensors=[Bs,seqLen,embed_dim]\r\n",
        "    embed_tensors=self.dropout(token_embed+pos_embed)\r\n",
        "    #convert into hid dim and transpose,conv_input=[Bs,hid_dim,seqLen]\r\n",
        "    conv_inputs=self.embed2hid(embed_tensors).permute(0,2,1)\r\n",
        "    \r\n",
        "    for conv_b in self.conv_blocks:\r\n",
        "      #create conv pad to avoid cheat\r\n",
        "      #new conv_inputs=[Bs,hid_dim,(filter_size-1)+orig_seqlen]\r\n",
        "      conv_inputs=self.dropout(conv_inputs)\r\n",
        "      conv_pad=torch.zeros(bs,self.hid_dim,self.padding).fill_(self.trg_pad_idx).to(self.device)\r\n",
        "      conv_pad=torch.cat((conv_pad,conv_inputs),dim=2)\r\n",
        "\r\n",
        "      #conv_output=[Bs,hid_dim*2,seqLen]\r\n",
        "      conv_outputs=conv_b(conv_pad)\r\n",
        "      #through GLU and transpose=[Bs,seqlen,hid_dim]\r\n",
        "      conv_outputs=F.glu(conv_outputs,dim=1)\r\n",
        "      #calculate attention=[Bs,hid_dim,seqlen]\r\n",
        "      conv_outputs,conv_attnW=self.calculate_attn(conv_outputs,embed_tensors,encoder_conved,encoder_combined)\r\n",
        "\r\n",
        "      #Residual connection attn output & conv_inputs\r\n",
        "      #conv_outputs=[Bs,hid_dim,seqLen]\r\n",
        "      conv_outputs=(conv_outputs+conv_inputs)*self.scale\r\n",
        "      conv_inputs=conv_outputs\r\n",
        "\r\n",
        "    #transform hid_dim to embed_dim=[Bs,seqlen,embed_dim]\r\n",
        "    embed_outputs=self.hid2embed(conv_outputs.permute(0,2,1))\r\n",
        "\r\n",
        "    #output each token logitics=[Bs,seqlen,output_dim]\r\n",
        "    #conv_attnW=[Bs,]\r\n",
        "    return self.output_layer(embed_outputs),conv_attnW"
      ],
      "execution_count": null,
      "outputs": []
    },
    {
      "cell_type": "markdown",
      "metadata": {
        "id": "oVGMdhwDnqIy"
      },
      "source": [
        "####建立seq2seq class來連接encoder,decoder的資訊流\r\n",
        "在forward pass時，先藉由Encoder將source sentence編碼成conved_output,combined_output。再將target tensor已及conved_output,combined_output進行解碼完成翻譯\r\n"
      ]
    },
    {
      "cell_type": "code",
      "metadata": {
        "id": "11UOd1Vlnpt8"
      },
      "source": [
        "class cnn_Seq2Seq(nn.Module):\r\n",
        "  def __init__(self,encoder,decoder):\r\n",
        "    super(cnn_Seq2Seq,self).__init__()\r\n",
        "    self.encoder=encoder\r\n",
        "    self.decoder=decoder\r\n",
        "  def forward(self,src_tensors,trg_tensors):\r\n",
        "    #src_tensors=[Bs,src_seqlen]\r\n",
        "    #trg_tensors=[Bs,trg_seqlen-1]\r\n",
        "\r\n",
        "    #encoding src_tensor\r\n",
        "    #conved_output=[Bs,seqlen,Embed_dim],conv_combined=[Bs,seqlen,Embed_dim]\r\n",
        "    conved_output,conv_combined=self.encoder(src_tensors)\r\n",
        "    #decoder conved_output\r\n",
        "    output_logitics,attn_w=self.decoder(trg_tensors,conved_output,conv_combined)\r\n",
        "    return output_logitics,attn_w"
      ],
      "execution_count": null,
      "outputs": []
    },
    {
      "cell_type": "markdown",
      "metadata": {
        "id": "680KlyG_bhzE"
      },
      "source": [
        "設置建構模型參數"
      ]
    },
    {
      "cell_type": "code",
      "metadata": {
        "id": "c9p6zVATyVdr"
      },
      "source": [
        "#set Encoder & Decoder hyperparameters\r\n",
        "Input_dim=len(SRC_de.vocab)\r\n",
        "Output_dim=len(TRG_en.vocab)\r\n",
        "Embed_dim=256\r\n",
        "hid_dim=512 #so filter size=1024\r\n",
        "Encoder_layers=10\r\n",
        "Decoder_layers=10\r\n",
        "Enc_kernel_size=3\r\n",
        "Dec_kernel_size=3\r\n",
        "Max_length=100\r\n",
        "Enc_dropout=0.25\r\n",
        "Dec_dropout=0.25\r\n",
        "TRG_pad_idx=TRG_en.vocab.stoi['<pad>']\r\n",
        "model_params={'encoder':{'input_dim':Input_dim,'kernel_size':Enc_kernel_size,'n_layers':Encoder_layers,'drop_rate':Enc_dropout},\r\n",
        "       'decoder':{'output_dim':Output_dim,'kernel_size':Dec_kernel_size,'n_layers':Decoder_layers,'drop_rate':Dec_dropout,'trg_pad_idx':TRG_pad_idx},\r\n",
        "       'common':{'embed_dim':Embed_dim,'hid_dim':hid_dim,'max_length':Max_length,'device':device}}\r\n",
        "model_dir='./model'\r\n",
        "model_path='s2s_model.pt'"
      ],
      "execution_count": null,
      "outputs": []
    },
    {
      "cell_type": "code",
      "metadata": {
        "id": "Sekj3wbE4dcm"
      },
      "source": [
        "def count_parameters(m):\r\n",
        "  return sum([p.numel() for p in m.parameters() if p.requires_grad])"
      ],
      "execution_count": null,
      "outputs": []
    },
    {
      "cell_type": "markdown",
      "metadata": {
        "id": "6XRo7M1_PEfL"
      },
      "source": [
        "建立Model"
      ]
    },
    {
      "cell_type": "code",
      "metadata": {
        "id": "Ygr9Nh9U2NXE",
        "colab": {
          "base_uri": "https://localhost:8080/"
        },
        "outputId": "d1d3a2a8-f1b8-4405-fa59-67084e2e6816"
      },
      "source": [
        "encoder_model=cnnEncoder(**model_params['encoder'],**model_params['common'])\r\n",
        "decoder_model=cnnDecoder(**model_params['decoder'],**model_params['common'])\r\n",
        "s2s_model=cnn_Seq2Seq(encoder_model,decoder_model).to(device)#put model to GPU\r\n",
        "#compute Model trainable parameters\r\n",
        "print(f'Model trainable params num:{count_parameters(s2s_model)}')\r\n",
        "print(f'Model artictcure:{s2s_model}')\r\n",
        "\r\n",
        "#define loss func and apadtive learning strategy\r\n",
        "optimizer=optim.Adam(s2s_model.parameters(),lr=1e-3)\r\n",
        "criterion=nn.CrossEntropyLoss(ignore_index=TRG_pad_idx)\r\n",
        "#define lr decay for stable training Model\r\n",
        "lr_scheduler=optim.lr_scheduler.ExponentialLR(optimizer,gamma=0.75)"
      ],
      "execution_count": null,
      "outputs": [
        {
          "output_type": "stream",
          "text": [
            "Model trainable params num:37351685\n",
            "Model artictcure:cnn_Seq2Seq(\n",
            "  (encoder): cnnEncoder(\n",
            "    (word_embed): Embedding(7855, 256)\n",
            "    (pos_embed): Embedding(100, 256)\n",
            "    (embed2hid): Linear(in_features=256, out_features=512, bias=True)\n",
            "    (conv_blocks): ModuleList(\n",
            "      (0): Conv1d(512, 1024, kernel_size=(3,), stride=(1,), padding=(1,))\n",
            "      (1): Conv1d(512, 1024, kernel_size=(3,), stride=(1,), padding=(1,))\n",
            "      (2): Conv1d(512, 1024, kernel_size=(3,), stride=(1,), padding=(1,))\n",
            "      (3): Conv1d(512, 1024, kernel_size=(3,), stride=(1,), padding=(1,))\n",
            "      (4): Conv1d(512, 1024, kernel_size=(3,), stride=(1,), padding=(1,))\n",
            "      (5): Conv1d(512, 1024, kernel_size=(3,), stride=(1,), padding=(1,))\n",
            "      (6): Conv1d(512, 1024, kernel_size=(3,), stride=(1,), padding=(1,))\n",
            "      (7): Conv1d(512, 1024, kernel_size=(3,), stride=(1,), padding=(1,))\n",
            "      (8): Conv1d(512, 1024, kernel_size=(3,), stride=(1,), padding=(1,))\n",
            "      (9): Conv1d(512, 1024, kernel_size=(3,), stride=(1,), padding=(1,))\n",
            "    )\n",
            "    (hid2embed): Linear(in_features=512, out_features=256, bias=True)\n",
            "    (dropout): Dropout(p=0.25, inplace=False)\n",
            "  )\n",
            "  (decoder): cnnDecoder(\n",
            "    (word_embed): Embedding(5893, 256)\n",
            "    (pos_embed): Embedding(100, 256)\n",
            "    (embed2hid): Linear(in_features=256, out_features=512, bias=True)\n",
            "    (hid2embed): Linear(in_features=512, out_features=256, bias=True)\n",
            "    (attn_hid2embed): Linear(in_features=512, out_features=256, bias=True)\n",
            "    (attn_embed2hid): Linear(in_features=256, out_features=512, bias=True)\n",
            "    (conv_blocks): ModuleList(\n",
            "      (0): Conv1d(512, 1024, kernel_size=(3,), stride=(1,))\n",
            "      (1): Conv1d(512, 1024, kernel_size=(3,), stride=(1,))\n",
            "      (2): Conv1d(512, 1024, kernel_size=(3,), stride=(1,))\n",
            "      (3): Conv1d(512, 1024, kernel_size=(3,), stride=(1,))\n",
            "      (4): Conv1d(512, 1024, kernel_size=(3,), stride=(1,))\n",
            "      (5): Conv1d(512, 1024, kernel_size=(3,), stride=(1,))\n",
            "      (6): Conv1d(512, 1024, kernel_size=(3,), stride=(1,))\n",
            "      (7): Conv1d(512, 1024, kernel_size=(3,), stride=(1,))\n",
            "      (8): Conv1d(512, 1024, kernel_size=(3,), stride=(1,))\n",
            "      (9): Conv1d(512, 1024, kernel_size=(3,), stride=(1,))\n",
            "    )\n",
            "    (dropout): Dropout(p=0.25, inplace=False)\n",
            "    (output_layer): Linear(in_features=256, out_features=5893, bias=True)\n",
            "  )\n",
            ")\n"
          ],
          "name": "stdout"
        }
      ]
    },
    {
      "cell_type": "markdown",
      "metadata": {
        "id": "4IUIN2vhMY0q"
      },
      "source": [
        "定義train,evaluate Model的pipeline 已及能儲存和載入model資訊的func(與前幾個practice差不多)"
      ]
    },
    {
      "cell_type": "code",
      "metadata": {
        "id": "Aas2Ram9Odje"
      },
      "source": [
        "#define model training pipeline\r\n",
        "def train_model(model,train_iter,criterion,optimizer,device,clip):\r\n",
        "  train_loss=0\r\n",
        "  model.train()\r\n",
        "  for bs in train_iter:\r\n",
        "    if next(model.parameters()).is_cuda:\r\n",
        "      src_tensors=bs.src.to(device)\r\n",
        "      trg_tensors=bs.trg.to(device)\r\n",
        "    else:\r\n",
        "      src_tensors=bs.src\r\n",
        "      trg_tensors=bs.trg\r\n",
        "    output_trg,_=model(src_tensors,trg_tensors[:,:-1])\r\n",
        "    #compute loss\r\n",
        "    output_trg=output_trg.reshape(-1,model.decoder.output_dim)\r\n",
        "    labels_trg=trg_tensors[:,1:].reshape(-1)\r\n",
        "    loss=criterion(output_trg,labels_trg)\r\n",
        "    train_loss+=loss.item()\r\n",
        "\r\n",
        "    #compute gradient & clipping\r\n",
        "    loss.backward()\r\n",
        "    nn.utils.clip_grad_norm_(model.parameters(),clip)\r\n",
        "\r\n",
        "    #update model weight\r\n",
        "    optimizer.step()\r\n",
        "    optimizer.zero_grad()\r\n",
        "  return train_loss/len(train_iter)\r\n",
        "#define model testing pipeline\r\n",
        "def evaluate_model(model,val_iter,criterion,device):\r\n",
        "  total_loss=0\r\n",
        "  model.eval()\r\n",
        "  with torch.no_grad():\r\n",
        "    for bs in val_iter:\r\n",
        "      if next(model.parameters()).is_cuda:\r\n",
        "        src_tensors=bs.src.to(device)\r\n",
        "        trg_tensors=bs.trg.to(device)\r\n",
        "      else:\r\n",
        "        src_tensors=bs.src\r\n",
        "        trg_tensors=bs.trg\r\n",
        "      trg_outputs,_=model(src_tensors,trg_tensors[:,:-1])\r\n",
        "      #compute loss\r\n",
        "      trg_outputs=trg_outputs.reshape(-1,model.decoder.output_dim)\r\n",
        "      trg_labels=trg_tensors[:,1:].reshape(-1)\r\n",
        "      loss=criterion(trg_outputs,trg_labels)\r\n",
        "      total_loss+=loss.item()\r\n",
        "  return total_loss/len(val_iter)\r\n",
        "def save_modelCkp(model,optimizer,lr_scheduler,model_params,epochs,model_dir,model_path):\r\n",
        "  if not os.path.exists(model_dir):\r\n",
        "    print('Model dir not exists')\r\n",
        "    os.mkdir(model_dir)\r\n",
        "    print(f'Already create directory:{model_dir}!')\r\n",
        "  save_path=os.path.join(model_dir,model_path)\r\n",
        "  torch.save({\r\n",
        "        'model':model.state_dict(),'optimzier':optimizer.state_dict(),\r\n",
        "        'model_params':model_params,'scheduler':lr_scheduler.state_dict(),\r\n",
        "        },save_path)\r\n",
        "  print(f'Model checkpoint already saved to{save_path}!')\r\n",
        "def load_modelCkp(model_dir,model_path):\r\n",
        "  save_path=os.path.join(model_dir,model_path)\r\n",
        "  #detect dir_path\r\n",
        "  if os.path.exits(model_dir):\r\n",
        "    print('Model dir exists...')\r\n",
        "  else:\r\n",
        "    raise FileNotFoundError('Model dir not exists')\r\n",
        "\r\n",
        "  try:\r\n",
        "    ck_point=torch.load(save_path)\r\n",
        "    print('Successful load Model info.')\r\n",
        "    return ck_point\r\n",
        "  except FileNotFoundError:\r\n",
        "    print(\"Save path don't exists\")"
      ],
      "execution_count": null,
      "outputs": []
    },
    {
      "cell_type": "markdown",
      "metadata": {
        "id": "Efm5Fl-lNNFh"
      },
      "source": [
        "**開始訓練模型**，定義訓練epochs=15、Gradient normalization=1,並且採用expoential lr_decay的策略。  \r\n",
        "\r\n",
        "除此之外，每隔3個epochs以及最後一個epochs就儲存一次model,optimizer,lr_scheduler資訊。"
      ]
    },
    {
      "cell_type": "code",
      "metadata": {
        "id": "Hz47LFljrc2z",
        "colab": {
          "base_uri": "https://localhost:8080/"
        },
        "outputId": "429f40c5-d502-417e-b1f6-777e977e8314"
      },
      "source": [
        "train_epochs=15\r\n",
        "grad_clip=0.1\r\n",
        "epochs_progress=tqdm.trange(train_epochs)\r\n",
        "save_everyEpochs=3\r\n",
        "for ep in epochs_progress:\r\n",
        "  \r\n",
        "  start_time=time.time()\r\n",
        "  #train Model\r\n",
        "  train_loss=train_model(s2s_model,train_iter,criterion,optimizer,device,grad_clip)\r\n",
        "  #update learning rate\r\n",
        "  ep_lr=lr_scheduler.get_last_lr()\r\n",
        "  lr_scheduler.step()\r\n",
        "\r\n",
        "  end_time=time.time()\r\n",
        "  #evaluate Model\r\n",
        "  epochs_loss=evaluate_model(s2s_model,val_iter,criterion,device)#compute val loss\r\n",
        "\r\n",
        "  #save Model checkpoints in every 3 epochs and final epochs\r\n",
        "  if (ep+1)%save_everyEpochs==0 or (ep+1)%save_everyEpochs==train_epochs:\r\n",
        "    save_modelCkp(s2s_model,optimizer,lr_scheduler,model_params,ep+1,model_dir,model_path)\r\n",
        "  \r\n",
        "  #display Training information\r\n",
        "  print(f'[{ep+1}/{train_epochs}] train_loss:{train_loss} \\t eval_loss:{epochs_loss}\\n \\\r\n",
        "      epoch_lr:{ep_lr} \\t cost_time:{end_time-start_time}s')"
      ],
      "execution_count": null,
      "outputs": [
        {
          "output_type": "stream",
          "text": [
            "\n",
            "\n",
            "\n",
            "\n",
            "\n",
            "\n",
            "  0%|          | 0/15 [00:00<?, ?it/s]\u001b[A\u001b[A\u001b[A\u001b[A\u001b[A\u001b[A/usr/local/lib/python3.6/dist-packages/torchtext/data/batch.py:23: UserWarning: Batch class will be retired soon and moved to torchtext.legacy. Please see the most recent release notes for further information.\n",
            "  warnings.warn('{} class will be retired soon and moved to torchtext.legacy. Please see the most recent release notes for further information.'.format(self.__class__.__name__), UserWarning)\n",
            "\n",
            "\n",
            "\n",
            "\n",
            "\n",
            "\n",
            "  7%|▋         | 1/15 [01:07<15:48, 67.73s/it]\u001b[A\u001b[A\u001b[A\u001b[A\u001b[A\u001b[A"
          ],
          "name": "stderr"
        },
        {
          "output_type": "stream",
          "text": [
            "[1/15] train_loss:5.593705547013472 \t eval_loss:3.853549540042877\n",
            "       epoch_lr:[0.001] \t cost_time:67.21696281433105s\n"
          ],
          "name": "stdout"
        },
        {
          "output_type": "stream",
          "text": [
            "\n",
            "\n",
            "\n",
            "\n",
            "\n",
            "\n",
            " 13%|█▎        | 2/15 [02:14<14:38, 67.57s/it]\u001b[A\u001b[A\u001b[A\u001b[A\u001b[A\u001b[A"
          ],
          "name": "stderr"
        },
        {
          "output_type": "stream",
          "text": [
            "[2/15] train_loss:3.571120933289045 \t eval_loss:2.8873246014118195\n",
            "       epoch_lr:[0.00075] \t cost_time:66.66766166687012s\n"
          ],
          "name": "stdout"
        },
        {
          "output_type": "stream",
          "text": [
            "\n",
            "\n",
            "\n",
            "\n",
            "\n",
            "\n",
            " 20%|██        | 3/15 [03:23<13:34, 67.86s/it]\u001b[A\u001b[A\u001b[A\u001b[A\u001b[A\u001b[A"
          ],
          "name": "stderr"
        },
        {
          "output_type": "stream",
          "text": [
            "Model checkpoint already saved to./model/s2s_model.pt!\n",
            "[3/15] train_loss:2.8928486901758 \t eval_loss:2.4225368201732635\n",
            "       epoch_lr:[0.0005625000000000001] \t cost_time:66.5062894821167s\n"
          ],
          "name": "stdout"
        },
        {
          "output_type": "stream",
          "text": [
            "\n",
            "\n",
            "\n",
            "\n",
            "\n",
            "\n",
            " 27%|██▋       | 4/15 [04:30<12:25, 67.74s/it]\u001b[A\u001b[A\u001b[A\u001b[A\u001b[A\u001b[A"
          ],
          "name": "stderr"
        },
        {
          "output_type": "stream",
          "text": [
            "[4/15] train_loss:2.509196697352741 \t eval_loss:2.182445466518402\n",
            "       epoch_lr:[0.00042187500000000005] \t cost_time:66.93798327445984s\n"
          ],
          "name": "stdout"
        },
        {
          "output_type": "stream",
          "text": [
            "\n",
            "\n",
            "\n",
            "\n",
            "\n",
            "\n",
            " 33%|███▎      | 5/15 [05:38<11:15, 67.54s/it]\u001b[A\u001b[A\u001b[A\u001b[A\u001b[A\u001b[A"
          ],
          "name": "stderr"
        },
        {
          "output_type": "stream",
          "text": [
            "[5/15] train_loss:2.282179272647471 \t eval_loss:2.0797792226076126\n",
            "       epoch_lr:[0.00031640625000000006] \t cost_time:66.53240442276001s\n"
          ],
          "name": "stdout"
        },
        {
          "output_type": "stream",
          "text": [
            "\n",
            "\n",
            "\n",
            "\n",
            "\n",
            "\n",
            " 40%|████      | 6/15 [06:46<10:10, 67.87s/it]\u001b[A\u001b[A\u001b[A\u001b[A\u001b[A\u001b[A"
          ],
          "name": "stderr"
        },
        {
          "output_type": "stream",
          "text": [
            "Model checkpoint already saved to./model/s2s_model.pt!\n",
            "[6/15] train_loss:2.13298098001186 \t eval_loss:2.016202852129936\n",
            "       epoch_lr:[0.00023730468750000005] \t cost_time:66.83617949485779s\n"
          ],
          "name": "stdout"
        },
        {
          "output_type": "stream",
          "text": [
            "\n",
            "\n",
            "\n",
            "\n",
            "\n",
            "\n",
            " 47%|████▋     | 7/15 [07:53<09:00, 67.62s/it]\u001b[A\u001b[A\u001b[A\u001b[A\u001b[A\u001b[A"
          ],
          "name": "stderr"
        },
        {
          "output_type": "stream",
          "text": [
            "[7/15] train_loss:2.0252872700208084 \t eval_loss:1.956236019730568\n",
            "       epoch_lr:[0.00017797851562500002] \t cost_time:66.50474739074707s\n"
          ],
          "name": "stdout"
        },
        {
          "output_type": "stream",
          "text": [
            "\n",
            "\n",
            "\n",
            "\n",
            "\n",
            "\n",
            " 53%|█████▎    | 8/15 [09:00<07:51, 67.42s/it]\u001b[A\u001b[A\u001b[A\u001b[A\u001b[A\u001b[A"
          ],
          "name": "stderr"
        },
        {
          "output_type": "stream",
          "text": [
            "[8/15] train_loss:1.9467055928864667 \t eval_loss:1.9308540672063828\n",
            "       epoch_lr:[0.00013348388671875002] \t cost_time:66.39982748031616s\n"
          ],
          "name": "stdout"
        },
        {
          "output_type": "stream",
          "text": [
            "\n",
            "\n",
            "\n",
            "\n",
            "\n",
            "\n",
            " 60%|██████    | 9/15 [10:09<06:46, 67.71s/it]\u001b[A\u001b[A\u001b[A\u001b[A\u001b[A\u001b[A"
          ],
          "name": "stderr"
        },
        {
          "output_type": "stream",
          "text": [
            "Model checkpoint already saved to./model/s2s_model.pt!\n",
            "[9/15] train_loss:1.8906735685953484 \t eval_loss:1.904646024107933\n",
            "       epoch_lr:[0.00010011291503906251] \t cost_time:66.44874882698059s\n"
          ],
          "name": "stdout"
        },
        {
          "output_type": "stream",
          "text": [
            "\n",
            "\n",
            "\n",
            "\n",
            "\n",
            "\n",
            " 67%|██████▋   | 10/15 [11:16<05:37, 67.51s/it]\u001b[A\u001b[A\u001b[A\u001b[A\u001b[A\u001b[A"
          ],
          "name": "stderr"
        },
        {
          "output_type": "stream",
          "text": [
            "[10/15] train_loss:1.8451207345802878 \t eval_loss:1.896349772810936\n",
            "       epoch_lr:[7.508468627929689e-05] \t cost_time:66.50808620452881s\n"
          ],
          "name": "stdout"
        },
        {
          "output_type": "stream",
          "text": [
            "\n",
            "\n",
            "\n",
            "\n",
            "\n",
            "\n",
            " 73%|███████▎  | 11/15 [12:23<04:29, 67.42s/it]\u001b[A\u001b[A\u001b[A\u001b[A\u001b[A\u001b[A"
          ],
          "name": "stderr"
        },
        {
          "output_type": "stream",
          "text": [
            "[11/15] train_loss:1.8116651652668017 \t eval_loss:1.883791372179985\n",
            "       epoch_lr:[5.631351470947266e-05] \t cost_time:66.69913935661316s\n"
          ],
          "name": "stdout"
        },
        {
          "output_type": "stream",
          "text": [
            "\n",
            "\n",
            "\n",
            "\n",
            "\n",
            "\n",
            " 80%|████████  | 12/15 [13:31<03:22, 67.64s/it]\u001b[A\u001b[A\u001b[A\u001b[A\u001b[A\u001b[A"
          ],
          "name": "stderr"
        },
        {
          "output_type": "stream",
          "text": [
            "Model checkpoint already saved to./model/s2s_model.pt!\n",
            "[12/15] train_loss:1.783567958991433 \t eval_loss:1.8777149617671967\n",
            "       epoch_lr:[4.22351360321045e-05] \t cost_time:66.27654266357422s\n"
          ],
          "name": "stdout"
        },
        {
          "output_type": "stream",
          "text": [
            "\n",
            "\n",
            "\n",
            "\n",
            "\n",
            "\n",
            " 87%|████████▋ | 13/15 [14:38<02:14, 67.39s/it]\u001b[A\u001b[A\u001b[A\u001b[A\u001b[A\u001b[A"
          ],
          "name": "stderr"
        },
        {
          "output_type": "stream",
          "text": [
            "[13/15] train_loss:1.7672928545443498 \t eval_loss:1.8763843774795532\n",
            "       epoch_lr:[3.167635202407837e-05] \t cost_time:66.2760124206543s\n"
          ],
          "name": "stdout"
        },
        {
          "output_type": "stream",
          "text": [
            "\n",
            "\n",
            "\n",
            "\n",
            "\n",
            "\n",
            " 93%|█████████▎| 14/15 [15:45<01:07, 67.22s/it]\u001b[A\u001b[A\u001b[A\u001b[A\u001b[A\u001b[A"
          ],
          "name": "stderr"
        },
        {
          "output_type": "stream",
          "text": [
            "[14/15] train_loss:1.7549832140296566 \t eval_loss:1.8686451464891434\n",
            "       epoch_lr:[2.3757264018058778e-05] \t cost_time:66.2767584323883s\n"
          ],
          "name": "stdout"
        },
        {
          "output_type": "stream",
          "text": [
            "\n",
            "\n",
            "\n",
            "\n",
            "\n",
            "\n",
            "100%|██████████| 15/15 [16:53<00:00, 67.56s/it]"
          ],
          "name": "stderr"
        },
        {
          "output_type": "stream",
          "text": [
            "Model checkpoint already saved to./model/s2s_model.pt!\n",
            "[15/15] train_loss:1.7425879408084348 \t eval_loss:1.8679071813821793\n",
            "       epoch_lr:[1.7817948013544083e-05] \t cost_time:66.48252296447754s\n"
          ],
          "name": "stdout"
        },
        {
          "output_type": "stream",
          "text": [
            "\n"
          ],
          "name": "stderr"
        }
      ]
    },
    {
      "cell_type": "markdown",
      "metadata": {
        "id": "ycenoUyiK6ML"
      },
      "source": [
        "##**Inference**  \r\n",
        "在此階段，需定義一個讓模型能翻譯raw sentences的步驟。\r\n",
        "此步驟為:\r\n",
        "\r\n",
        "\r\n",
        "*   將模型切換為eval Model來關閉pytorch的grad追蹤\r\n",
        "*   接著判斷輸入的原文資料型別，若為字串則採用前面的預處理方法；若是為list of token,則是將每個word normalize(轉小寫)。\r\n",
        "\r\n",
        "\r\n",
        "*   接著將list of token加入<sos>,<eos>。同時將token轉化成token id。並轉換成 source tensor已及將資料轉移至gpu\r\n",
        "*  將轉換後的source tensor藉由Model的encoder編碼轉換成conved_output,combied_output\r\n",
        "\r\n",
        "\r\n",
        "*   創建一個list儲存decoder所翻譯的token,並初始化token。\r\n",
        "*   以下步驟反覆iter至max length\r\n",
        "    \r\n",
        "&nbsp;&nbsp;&nbsp;&nbsp;&nbsp;&nbsp;&nbsp;&nbsp;&nbsp;-將過所有預測token_list轉換成tensor,並轉換成二維tensor=\\[Bs,sents]  \r\n",
        "&nbsp;&nbsp;&nbsp;&nbsp;&nbsp;&nbsp;&nbsp;&nbsp;&nbsp;-將它,conved_output,combined_output餵至decoder中,並從decoder的output取得最後一個output token的id。  \r\n",
        "&nbsp;&nbsp;&nbsp;&nbsp;&nbsp;&nbsp;&nbsp;&nbsp;&nbsp;-判斷decoder 那個output token id是否等於<eos>，若是的話則跳出回圈；不是的話則是將其加入至token_list。\r\n",
        "\r\n",
        "\r\n",
        "*   將其token list依照target sent的vocab轉成詞彙\r\n",
        "\r\n",
        "\r\n",
        "\r\n",
        "\r\n",
        "\r\n",
        "\r\n",
        "\r\n",
        "\r\n",
        "\r\n"
      ]
    },
    {
      "cell_type": "code",
      "metadata": {
        "id": "2ypfrgHyK3c-"
      },
      "source": [
        "def translate_sents(model,sentence,src_Field,trg_field,max_len,device):\r\n",
        "  model.eval()\r\n",
        "  #text process\r\n",
        "  if isinstance(sentence,str):\r\n",
        "    translated=['<sos>']+de_tokenize(sentence)+['<eos>']\r\n",
        "  else:\r\n",
        "    translated=['<sos>']+[t.lower() for t in sentence]+['<eos>']\r\n",
        "  #convert to word indx\r\n",
        "  token_idx=src_Field.numericalize([translated])\r\n",
        "  #create source sents Tensor\r\n",
        "  src_tensors=token_idx.to(device)\r\n",
        "\r\n",
        "  with torch.no_grad():\r\n",
        "    #encoding source sents\r\n",
        "    conved_output,combined_output=model.encoder(src_tensors)\r\n",
        "\r\n",
        "  trg_idx=[trg_field.vocab.stoi['<sos>']]\r\n",
        "  i=0\r\n",
        "  while i<max_len:\r\n",
        "    model_output=torch.LongTensor(trg_idx).unsqueeze(0).to(device)\r\n",
        "    #outputs=[1,seqlen,output_dim]\r\n",
        "    output_logitics,attn_weights=model.decoder(model_output,conved_output,combined_output)\r\n",
        "    #get predict word idx\r\n",
        "    predict_idx=F.softmax(output_logitics,dim=2).argmax(2)[:,-1].item()\r\n",
        "\r\n",
        "    #determined predict token id\r\n",
        "    if predict_idx==trg_field.vocab.stoi['<eos>']:\r\n",
        "      break\r\n",
        "    trg_idx.append(predict_idx)\r\n",
        "    i+=1\r\n",
        "  #convert word idx into string\r\n",
        "  translated_sents=[trg_field.vocab.itos[idx] for idx in trg_idx]\r\n",
        "  \r\n",
        "  return translated_sents[1:],attn_weights"
      ],
      "execution_count": null,
      "outputs": []
    },
    {
      "cell_type": "markdown",
      "metadata": {
        "id": "VZcJ2P4tix8z"
      },
      "source": [
        "顯示在翻譯下個時間點的token時，對於source sentence中每個token的關注程度強弱。  \r\n",
        "其中越白的代表關注程度高，越黑的則反之。  \r\n"
      ]
    },
    {
      "cell_type": "code",
      "metadata": {
        "id": "HEtcGb8pixhk"
      },
      "source": [
        "import matplotlib.pyplot as plt\r\n",
        "import matplotlib as mpl\r\n",
        "#setting config\r\n",
        "mpl.rcParams['font.size']=15\r\n",
        "#set annontation\r\n",
        "def annot_text(data,ax,x_range,y_range):\r\n",
        "  for i in y_range:\r\n",
        "    for j in x_range:\r\n",
        "      #get weight value\r\n",
        "      value=data[i,j]\r\n",
        "      ax.text(j,i,'{:1.2f}'.format(value),ha='center',va='center',\r\n",
        "          color='k' if value>=0.5 else 'w',size=12)\r\n",
        "\r\n",
        "def display_attnW(attn_weights,x_sent,y_sent):\r\n",
        "  #compute ticks loc\r\n",
        "  xticks_loc=range(len(x_sent))\r\n",
        "  yticks_loc=range(len(y_sent))\r\n",
        "  #create fig\r\n",
        "  fig=plt.figure(figsize=(18,14))\r\n",
        "  ax=fig.add_subplot(1,1,1)\r\n",
        "\r\n",
        "  ax.imshow(attn_w,cmap='gray',vmin=0.0,vmax=1.0)\r\n",
        "  #set xtick position\r\n",
        "  ax.xaxis.set_ticks_position('top')\r\n",
        "  ax.xaxis.set_label_position('top')\r\n",
        "  #set ticks location and label\r\n",
        "  ax.set_xticks(xticks_loc)\r\n",
        "  ax.set_yticks(yticks_loc)\r\n",
        "  ax.set_xticklabels(x_sent)\r\n",
        "  ax.set_yticklabels(y_sent)\r\n",
        "  #set weight annotation\r\n",
        "  annot_text(attn_weights,ax,xticks_loc,yticks_loc)\r\n",
        "  #set labels and title\r\n",
        "  ax.set_title('Attention weight')\r\n",
        "  ax.set_xlabel('Source sentences')\r\n",
        "  ax.set_ylabel('Target sentences')\r\n",
        "  fig.tight_layout()\r\n",
        "  plt.show()"
      ],
      "execution_count": null,
      "outputs": []
    },
    {
      "cell_type": "markdown",
      "metadata": {
        "id": "BWY0Y6AeyuQI"
      },
      "source": [
        "**接下來，我們使用model幫助我們進行翻譯，並且查看模型在翻譯每個詞彙時，他會參考原文的哪個詞彙進行翻譯。**\r\n",
        "\r\n",
        "###example:\r\n",
        "原文句子(source sent):['der', 'weiße', 'hund', 'läuft', 'im', 'flachen', 'wasser', '.']  \r\n",
        "Model翻譯(translated):the white dog is running in shallow water in shallow water .  \r\n",
        "實際翻譯(target sent):['the', 'white', 'dog', 'is', 'running', 'in', 'the', 'shallow', 'water', '.']\r\n",
        "\r\n",
        "\\#在關注度的圖表中，發現"
      ]
    },
    {
      "cell_type": "code",
      "metadata": {
        "colab": {
          "base_uri": "https://localhost:8080/",
          "height": 1000
        },
        "id": "4qgq5GCjx2_D",
        "outputId": "cc579d8d-7f9e-4fa1-f088-81c5621490c2"
      },
      "source": [
        "#Translate test example\r\n",
        "test_idx=random.choice(range(len(test_data)))\r\n",
        "test_example=test_data.examples[test_idx]\r\n",
        "test_src=test_example.src\r\n",
        "test_trg=test_example.trg\r\n",
        "\r\n",
        "#translated source sent\r\n",
        "translated_trg,attn_w=translate_sents(s2s_model,test_src,SRC_de,TRG_en,100,device)\r\n",
        "print(f'Source sentences:{test_src}\\n')\r\n",
        "print(f'Actual target sentence:{test_trg}\\n')\r\n",
        "print(f\"model translated target sentence:{' '.join(translated_trg)}\\n\")\r\n",
        "\r\n",
        "#get tick labels location\r\n",
        "test_src=['sos']+test_src+['<eos>']\r\n",
        "translated_trg=['sos']+translated_trg\r\n",
        "#transform attention weight to numpy\r\n",
        "attn_w=attn_w[0].cpu().clone().detach().numpy()\r\n",
        "display_attnW(attn_w,test_src,translated_trg)"
      ],
      "execution_count": null,
      "outputs": [
        {
          "output_type": "stream",
          "text": [
            "Source sentences:['der', 'weiße', 'hund', 'läuft', 'im', 'flachen', 'wasser', '.']\n",
            "\n",
            "Actual target sentence:['the', 'white', 'dog', 'is', 'running', 'in', 'the', 'shallow', 'water', '.']\n",
            "\n",
            "model translated target sentence:the white dog is running in shallow water in shallow water .\n",
            "\n"
          ],
          "name": "stdout"
        },
        {
          "output_type": "display_data",
          "data": {
            "image/png": "[encoded data removed]",
            "text/plain": [
              "<Figure size 1296x1008 with 1 Axes>"
            ]
          },
          "metadata": {
            "tags": [],
            "needs_background": "light"
          }
        }
      ]
    },
    {
      "cell_type": "markdown",
      "metadata": {
        "id": "ZvJskqhqADuR"
      },
      "source": [
        "使用BLEU Metrics來去衡量模型的performance"
      ]
    },
    {
      "cell_type": "code",
      "metadata": {
        "id": "cIqqWtT1ADD5"
      },
      "source": [
        "def compute_bleu_score(data,model,src_field,trg_field,device):\r\n",
        "  predicts=[]\r\n",
        "  labels=[]\r\n",
        "  for i in range(len(data)):\r\n",
        "    example=data[i]\r\n",
        "    src=vars(example)['src']\r\n",
        "    trg=vars(example)['trg']\r\n",
        "    #model predict\r\n",
        "    translated,_=translate_sents(model,src,src_field,trg_field,100,device)\r\n",
        "\r\n",
        "    #add to predicts and labels\r\n",
        "    predicts.append(translated)\r\n",
        "    labels.append([trg])\r\n",
        "  \r\n",
        "  #compute bleu\r\n",
        "  blue_score=metrics.bleu_score(predicts,labels,weights=[0.25,0.25,0.25],max_n=3)\r\n",
        "  return blue_score"
      ],
      "execution_count": null,
      "outputs": []
    },
    {
      "cell_type": "code",
      "metadata": {
        "colab": {
          "base_uri": "https://localhost:8080/"
        },
        "id": "y7PIpGmdK3LL",
        "outputId": "b7b96916-af62-4348-ebe5-cad4d554a228"
      },
      "source": [
        "test_bleuScore=compute_bleu_score(test_data,s2s_model,SRC_de,TRG_en,device)\r\n",
        "print(f'BLEU score:{test_bleuScore}')"
      ],
      "execution_count": null,
      "outputs": [
        {
          "output_type": "stream",
          "text": [
            "BLEU score:0.48691925406455994\n"
          ],
          "name": "stdout"
        }
      ]
    }
  ]
}